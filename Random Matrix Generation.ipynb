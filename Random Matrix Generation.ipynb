{
 "cells": [
  {
   "cell_type": "code",
   "execution_count": 26,
   "metadata": {},
   "outputs": [
    {
     "name": "stdout",
     "output_type": "stream",
     "text": [
      "[[ 0.   -1.5 ]\n",
      " [-0.75  0.  ]]\n"
     ]
    }
   ],
   "source": [
    "import numpy as np\n",
    "import random as rd\n",
    "d = 0.5\n",
    "e = 0.25\n",
    "\n",
    "matrix_size = int(input('matrix size?\\n'))\n",
    "mat = np.zeros((matrix_size, matrix_size))\n",
    "\n",
    "possible_vals = (-2,-1,1,2)\n",
    "weights = (0.2,0.3, 0.3,0.2)\n",
    "\n",
    "for i in range(matrix_size):\n",
    "    for j in range(matrix_size):\n",
    "        if i == j:\n",
    "            continue\n",
    "        else:\n",
    "            mat[i,j] = rd.choices(possible_vals, weights)[0]\n",
    "\n",
    "for i in range(matrix_size):\n",
    "    for j in range(matrix_size):\n",
    "        if mat[i,j] == -2:\n",
    "            mat[i,j] = -1-d\n",
    "            mat[j,i] = -1-d\n",
    "        if mat[i,j] == 2:\n",
    "            mat[i,j] = -1+e\n",
    "            mat[j,i] = -1+e\n",
    "        if mat[i,j] == -1:\n",
    "            mat[i,j] = -1-d\n",
    "        if mat[i,j] == 1:\n",
    "            mat[i,j] = -1+e\n",
    "\n",
    "print(mat)"
   ]
  },
  {
   "cell_type": "code",
   "execution_count": 6,
   "metadata": {},
   "outputs": [],
   "source": [
    "import numpy as np\n",
    "\n",
    "d=0.5\n",
    "e=0.25\n"
   ]
  },
  {
   "cell_type": "code",
   "execution_count": 17,
   "metadata": {},
   "outputs": [],
   "source": [
    "def weight_matrix_bal(matrix_size,p,q):\n",
    "    mat = np.zeros((matrix_size, matrix_size))\n",
    "\n",
    "    sc_p = (p*10)/matrix_size\n",
    "    sc_q = (q*10)/matrix_size\n",
    "\n",
    "    print(sc_p)\n",
    "    print(sc_q)\n",
    "\n",
    "    possible_vals = (-2,-1,1,2)\n",
    "    weights = (1-p,sc_p*((1-sc_q)/2),sc_p*((1-sc_q)/2),sc_p*sc_q)\n",
    "\n",
    "    for i in range(matrix_size):\n",
    "        for j in range(matrix_size):\n",
    "            if i >= j:\n",
    "                continue\n",
    "            else:\n",
    "                mat[i,j] = np.random.choice(possible_vals, 1, weights)[0]\n",
    "    print(mat)\n",
    "\n",
    "    for i in range(matrix_size):\n",
    "        for j in range(matrix_size):\n",
    "            # if mat[i,j] == -2:\n",
    "            #     mat[i,j] = -1-d\n",
    "            #     mat[j,i] = -1-d\n",
    "            if mat[i,j] == 2:\n",
    "                mat[i,j] = -1+e\n",
    "                mat[j,i] = -1+e\n",
    "            if mat[i,j] == -2:\n",
    "                mat[i,j] = -1-d\n",
    "                mat[j,i] = -1-d\n",
    "            if mat[i,j] == -1:\n",
    "                mat[i,j] = -1-d\n",
    "                mat[j,i] = -1+e\n",
    "            if mat[i,j] == 1:\n",
    "                mat[i,j] = -1+e\n",
    "                mat[j,i] = -1-d\n",
    "\n",
    "\n",
    "\n",
    "    print(mat)\n",
    "    return(mat)"
   ]
  },
  {
   "cell_type": "code",
   "execution_count": 18,
   "metadata": {},
   "outputs": [
    {
     "name": "stdout",
     "output_type": "stream",
     "text": [
      "0.8571428571428571\n",
      "0.14285714285714285\n",
      "[[ 0.  2.  1. -2.  1. -1.  1.]\n",
      " [ 0.  0.  1. -1.  1. -1.  1.]\n",
      " [ 0.  0.  0.  1.  2. -2.  1.]\n",
      " [ 0.  0.  0.  0.  1. -1.  1.]\n",
      " [ 0.  0.  0.  0.  0.  1. -1.]\n",
      " [ 0.  0.  0.  0.  0.  0.  2.]\n",
      " [ 0.  0.  0.  0.  0.  0.  0.]]\n",
      "[[ 0.   -0.75 -0.75 -1.5  -0.75 -1.5  -0.75]\n",
      " [-0.75  0.   -0.75 -1.5  -0.75 -1.5  -0.75]\n",
      " [-1.5  -1.5   0.   -0.75 -0.75 -1.5  -0.75]\n",
      " [-1.5  -0.75 -1.5   0.   -0.75 -1.5  -0.75]\n",
      " [-1.5  -1.5  -0.75 -1.5   0.   -0.75 -1.5 ]\n",
      " [-0.75 -0.75 -1.5  -0.75 -1.5   0.   -0.75]\n",
      " [-1.5  -1.5  -1.5  -1.5  -0.75 -0.75  0.  ]]\n"
     ]
    },
    {
     "data": {
      "text/plain": [
       "array([[ 0.  , -0.75, -0.75, -1.5 , -0.75, -1.5 , -0.75],\n",
       "       [-0.75,  0.  , -0.75, -1.5 , -0.75, -1.5 , -0.75],\n",
       "       [-1.5 , -1.5 ,  0.  , -0.75, -0.75, -1.5 , -0.75],\n",
       "       [-1.5 , -0.75, -1.5 ,  0.  , -0.75, -1.5 , -0.75],\n",
       "       [-1.5 , -1.5 , -0.75, -1.5 ,  0.  , -0.75, -1.5 ],\n",
       "       [-0.75, -0.75, -1.5 , -0.75, -1.5 ,  0.  , -0.75],\n",
       "       [-1.5 , -1.5 , -1.5 , -1.5 , -0.75, -0.75,  0.  ]])"
      ]
     },
     "execution_count": 18,
     "metadata": {},
     "output_type": "execute_result"
    }
   ],
   "source": [
    "weight_matrix_bal(7,0.6,0.1)"
   ]
  }
 ],
 "metadata": {
  "kernelspec": {
   "display_name": "Python 3",
   "language": "python",
   "name": "python3"
  },
  "language_info": {
   "codemirror_mode": {
    "name": "ipython",
    "version": 3
   },
   "file_extension": ".py",
   "mimetype": "text/x-python",
   "name": "python",
   "nbconvert_exporter": "python",
   "pygments_lexer": "ipython3",
   "version": "3.12.0"
  }
 },
 "nbformat": 4,
 "nbformat_minor": 2
}
