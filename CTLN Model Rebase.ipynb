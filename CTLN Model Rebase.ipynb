{
 "cells": [
  {
   "cell_type": "code",
   "execution_count": 1,
   "metadata": {},
   "outputs": [],
   "source": [
    "import numpy as np\n",
    "import scipy.integrate as scp\n",
    "import statistics as st\n",
    "import matplotlib.pyplot as plt\n",
    "import os\n",
    "import multiprocessing as mp\n",
    "\n",
    "# parameters for eps, del, the\n",
    "e = 0.25\n",
    "d = 0.5\n",
    "t = 1\n",
    "\n",
    "# generating balanced weight matrix\n",
    "def weight_matrix_bal(matrix_size,p,q):\n",
    "    mat = np.zeros((matrix_size, matrix_size))\n",
    "\n",
    "    # sc_p = (p*10)/matrix_size\n",
    "    # sc_q = (q*10)/matrix_size\n",
    "\n",
    "    sc_p = p\n",
    "    sc_q = q\n",
    "\n",
    "    # print(sc_p)\n",
    "    # print(sc_q)\n",
    "\n",
    "    possible_vals = (-2,-1,1,2)\n",
    "    weights = (1-sc_p,sc_p*((1-sc_q)/2),sc_p*((1-sc_q)/2),sc_p*sc_q)\n",
    "    # print(weights)\n",
    "\n",
    "    for i in range(matrix_size):\n",
    "        for j in range(matrix_size):\n",
    "            if i >= j:\n",
    "                continue\n",
    "            else:\n",
    "                mat[i,j] = np.random.choice(possible_vals, 1, p=weights)[0]\n",
    "    # print(mat)\n",
    "\n",
    "    for i in range(matrix_size):\n",
    "        for j in range(matrix_size):\n",
    "            # if mat[i,j] == -2:\n",
    "            #     mat[i,j] = -1-d\n",
    "            #     mat[j,i] = -1-d\n",
    "            if mat[i,j] == 2:\n",
    "                mat[i,j] = -1+e\n",
    "                mat[j,i] = -1+e\n",
    "            if mat[i,j] == -2:\n",
    "                mat[i,j] = -1-d\n",
    "                mat[j,i] = -1-d\n",
    "            if mat[i,j] == -1:\n",
    "                mat[i,j] = -1-d\n",
    "                mat[j,i] = -1+e\n",
    "            if mat[i,j] == 1:\n",
    "                mat[i,j] = -1+e\n",
    "                mat[j,i] = -1-d\n",
    "\n",
    "    # print(mat)\n",
    "    return(mat)\n",
    "\n",
    "def mat_graph(mat, matrix_size):\n",
    "    mat_graph = mat.copy()\n",
    "\n",
    "    for i in range(matrix_size):\n",
    "        for j in range(matrix_size):\n",
    "            if mat_graph[i,j] == -1-d:\n",
    "                mat_graph[i,j] = 0\n",
    "            if mat_graph[i,j] == -1+e:\n",
    "                mat_graph[i,j] = 1\n",
    "            # print(i,j)\n",
    "    return(mat_graph)"
   ]
  },
  {
   "cell_type": "code",
   "execution_count": null,
   "metadata": {},
   "outputs": [
    {
     "name": "stdout",
     "output_type": "stream",
     "text": [
      "p = 0.0, q = 1.0, trial_close = [1, 1, 1, 1, 1, 1, 1], mean = 1\n",
      "p = 0.1, q = 1.0, trial_close = [1, 1, 1, 1, 1, 1, 1], mean = 1\n",
      "p = 0.2, q = 1.0, trial_close = [1, 1, 1, 1, 1, 1, 1], mean = 1\n",
      "p = 0.3, q = 1.0, trial_close = [1, 1, 1, 1, 1, 1, 1], mean = 1\n",
      "p = 0.4, q = 1.0, trial_close = [1, 1, 1, 1, 1, 1, 1], mean = 1\n",
      "p = 0.5, q = 1.0, trial_close = [1, 1, 1, 1, 1, 1, 1], mean = 1\n"
     ]
    },
    {
     "ename": "KeyboardInterrupt",
     "evalue": "",
     "output_type": "error",
     "traceback": [
      "\u001b[1;31m---------------------------------------------------------------------------\u001b[0m",
      "\u001b[1;31mKeyboardInterrupt\u001b[0m                         Traceback (most recent call last)",
      "Cell \u001b[1;32mIn[2], line 30\u001b[0m\n\u001b[0;32m     28\u001b[0m x0 \u001b[38;5;241m=\u001b[39m np\u001b[38;5;241m.\u001b[39mrandom\u001b[38;5;241m.\u001b[39mrand(mat_size, \u001b[38;5;241m1\u001b[39m)\n\u001b[0;32m     29\u001b[0m time \u001b[38;5;241m=\u001b[39m [\u001b[38;5;241m0\u001b[39m, \u001b[38;5;241m600\u001b[39m]\n\u001b[1;32m---> 30\u001b[0m sol \u001b[38;5;241m=\u001b[39m \u001b[43mscp\u001b[49m\u001b[38;5;241;43m.\u001b[39;49m\u001b[43msolve_ivp\u001b[49m\u001b[43m(\u001b[49m\u001b[43msys\u001b[49m\u001b[43m,\u001b[49m\u001b[43m \u001b[49m\u001b[43mtime\u001b[49m\u001b[43m,\u001b[49m\u001b[43m \u001b[49m\u001b[43mx0\u001b[49m\u001b[38;5;241;43m.\u001b[39;49m\u001b[43mflatten\u001b[49m\u001b[43m(\u001b[49m\u001b[43m)\u001b[49m\u001b[43m,\u001b[49m\u001b[43m \u001b[49m\u001b[43mmethod\u001b[49m\u001b[38;5;241;43m=\u001b[39;49m\u001b[38;5;124;43m'\u001b[39;49m\u001b[38;5;124;43mBDF\u001b[39;49m\u001b[38;5;124;43m'\u001b[39;49m\u001b[43m,\u001b[49m\u001b[43m \u001b[49m\u001b[43mdense_output\u001b[49m\u001b[38;5;241;43m=\u001b[39;49m\u001b[38;5;28;43;01mFalse\u001b[39;49;00m\u001b[43m)\u001b[49m\n\u001b[0;32m     32\u001b[0m \u001b[38;5;66;03m# Improved fixed-point detection\u001b[39;00m\n\u001b[0;32m     33\u001b[0m final_state \u001b[38;5;241m=\u001b[39m sol\u001b[38;5;241m.\u001b[39my[:, \u001b[38;5;241m-\u001b[39m\u001b[38;5;241m1\u001b[39m]\n",
      "File \u001b[1;32mc:\\Users\\avalon\\AppData\\Local\\Programs\\Python\\Python311\\Lib\\site-packages\\scipy\\integrate\\_ivp\\ivp.py:655\u001b[0m, in \u001b[0;36msolve_ivp\u001b[1;34m(fun, t_span, y0, method, t_eval, dense_output, events, vectorized, args, **options)\u001b[0m\n\u001b[0;32m    653\u001b[0m status \u001b[38;5;241m=\u001b[39m \u001b[38;5;28;01mNone\u001b[39;00m\n\u001b[0;32m    654\u001b[0m \u001b[38;5;28;01mwhile\u001b[39;00m status \u001b[38;5;129;01mis\u001b[39;00m \u001b[38;5;28;01mNone\u001b[39;00m:\n\u001b[1;32m--> 655\u001b[0m     message \u001b[38;5;241m=\u001b[39m \u001b[43msolver\u001b[49m\u001b[38;5;241;43m.\u001b[39;49m\u001b[43mstep\u001b[49m\u001b[43m(\u001b[49m\u001b[43m)\u001b[49m\n\u001b[0;32m    657\u001b[0m     \u001b[38;5;28;01mif\u001b[39;00m solver\u001b[38;5;241m.\u001b[39mstatus \u001b[38;5;241m==\u001b[39m \u001b[38;5;124m'\u001b[39m\u001b[38;5;124mfinished\u001b[39m\u001b[38;5;124m'\u001b[39m:\n\u001b[0;32m    658\u001b[0m         status \u001b[38;5;241m=\u001b[39m \u001b[38;5;241m0\u001b[39m\n",
      "File \u001b[1;32mc:\\Users\\avalon\\AppData\\Local\\Programs\\Python\\Python311\\Lib\\site-packages\\scipy\\integrate\\_ivp\\base.py:197\u001b[0m, in \u001b[0;36mOdeSolver.step\u001b[1;34m(self)\u001b[0m\n\u001b[0;32m    195\u001b[0m \u001b[38;5;28;01melse\u001b[39;00m:\n\u001b[0;32m    196\u001b[0m     t \u001b[38;5;241m=\u001b[39m \u001b[38;5;28mself\u001b[39m\u001b[38;5;241m.\u001b[39mt\n\u001b[1;32m--> 197\u001b[0m     success, message \u001b[38;5;241m=\u001b[39m \u001b[38;5;28;43mself\u001b[39;49m\u001b[38;5;241;43m.\u001b[39;49m\u001b[43m_step_impl\u001b[49m\u001b[43m(\u001b[49m\u001b[43m)\u001b[49m\n\u001b[0;32m    199\u001b[0m     \u001b[38;5;28;01mif\u001b[39;00m \u001b[38;5;129;01mnot\u001b[39;00m success:\n\u001b[0;32m    200\u001b[0m         \u001b[38;5;28mself\u001b[39m\u001b[38;5;241m.\u001b[39mstatus \u001b[38;5;241m=\u001b[39m \u001b[38;5;124m'\u001b[39m\u001b[38;5;124mfailed\u001b[39m\u001b[38;5;124m'\u001b[39m\n",
      "File \u001b[1;32mc:\\Users\\avalon\\AppData\\Local\\Programs\\Python\\Python311\\Lib\\site-packages\\scipy\\integrate\\_ivp\\bdf.py:367\u001b[0m, in \u001b[0;36mBDF._step_impl\u001b[1;34m(self)\u001b[0m\n\u001b[0;32m    364\u001b[0m \u001b[38;5;28;01mif\u001b[39;00m LU \u001b[38;5;129;01mis\u001b[39;00m \u001b[38;5;28;01mNone\u001b[39;00m:\n\u001b[0;32m    365\u001b[0m     LU \u001b[38;5;241m=\u001b[39m \u001b[38;5;28mself\u001b[39m\u001b[38;5;241m.\u001b[39mlu(\u001b[38;5;28mself\u001b[39m\u001b[38;5;241m.\u001b[39mI \u001b[38;5;241m-\u001b[39m c \u001b[38;5;241m*\u001b[39m J)\n\u001b[1;32m--> 367\u001b[0m converged, n_iter, y_new, d \u001b[38;5;241m=\u001b[39m \u001b[43msolve_bdf_system\u001b[49m\u001b[43m(\u001b[49m\n\u001b[0;32m    368\u001b[0m \u001b[43m    \u001b[49m\u001b[38;5;28;43mself\u001b[39;49m\u001b[38;5;241;43m.\u001b[39;49m\u001b[43mfun\u001b[49m\u001b[43m,\u001b[49m\u001b[43m \u001b[49m\u001b[43mt_new\u001b[49m\u001b[43m,\u001b[49m\u001b[43m \u001b[49m\u001b[43my_predict\u001b[49m\u001b[43m,\u001b[49m\u001b[43m \u001b[49m\u001b[43mc\u001b[49m\u001b[43m,\u001b[49m\u001b[43m \u001b[49m\u001b[43mpsi\u001b[49m\u001b[43m,\u001b[49m\u001b[43m \u001b[49m\u001b[43mLU\u001b[49m\u001b[43m,\u001b[49m\u001b[43m \u001b[49m\u001b[38;5;28;43mself\u001b[39;49m\u001b[38;5;241;43m.\u001b[39;49m\u001b[43msolve_lu\u001b[49m\u001b[43m,\u001b[49m\n\u001b[0;32m    369\u001b[0m \u001b[43m    \u001b[49m\u001b[43mscale\u001b[49m\u001b[43m,\u001b[49m\u001b[43m \u001b[49m\u001b[38;5;28;43mself\u001b[39;49m\u001b[38;5;241;43m.\u001b[39;49m\u001b[43mnewton_tol\u001b[49m\u001b[43m)\u001b[49m\n\u001b[0;32m    371\u001b[0m \u001b[38;5;28;01mif\u001b[39;00m \u001b[38;5;129;01mnot\u001b[39;00m converged:\n\u001b[0;32m    372\u001b[0m     \u001b[38;5;28;01mif\u001b[39;00m current_jac:\n",
      "File \u001b[1;32mc:\\Users\\avalon\\AppData\\Local\\Programs\\Python\\Python311\\Lib\\site-packages\\scipy\\integrate\\_ivp\\bdf.py:48\u001b[0m, in \u001b[0;36msolve_bdf_system\u001b[1;34m(fun, t_new, y_predict, c, psi, LU, solve_lu, scale, tol)\u001b[0m\n\u001b[0;32m     45\u001b[0m     \u001b[38;5;28;01mbreak\u001b[39;00m\n\u001b[0;32m     47\u001b[0m dy \u001b[38;5;241m=\u001b[39m solve_lu(LU, c \u001b[38;5;241m*\u001b[39m f \u001b[38;5;241m-\u001b[39m psi \u001b[38;5;241m-\u001b[39m d)\n\u001b[1;32m---> 48\u001b[0m dy_norm \u001b[38;5;241m=\u001b[39m \u001b[43mnorm\u001b[49m\u001b[43m(\u001b[49m\u001b[43mdy\u001b[49m\u001b[43m \u001b[49m\u001b[38;5;241;43m/\u001b[39;49m\u001b[43m \u001b[49m\u001b[43mscale\u001b[49m\u001b[43m)\u001b[49m\n\u001b[0;32m     50\u001b[0m \u001b[38;5;28;01mif\u001b[39;00m dy_norm_old \u001b[38;5;129;01mis\u001b[39;00m \u001b[38;5;28;01mNone\u001b[39;00m:\n\u001b[0;32m     51\u001b[0m     rate \u001b[38;5;241m=\u001b[39m \u001b[38;5;28;01mNone\u001b[39;00m\n",
      "File \u001b[1;32mc:\\Users\\avalon\\AppData\\Local\\Programs\\Python\\Python311\\Lib\\site-packages\\scipy\\integrate\\_ivp\\common.py:65\u001b[0m, in \u001b[0;36mnorm\u001b[1;34m(x)\u001b[0m\n\u001b[0;32m     63\u001b[0m \u001b[38;5;28;01mdef\u001b[39;00m \u001b[38;5;21mnorm\u001b[39m(x):\n\u001b[0;32m     64\u001b[0m \u001b[38;5;250m    \u001b[39m\u001b[38;5;124;03m\"\"\"Compute RMS norm.\"\"\"\u001b[39;00m\n\u001b[1;32m---> 65\u001b[0m     \u001b[38;5;28;01mreturn\u001b[39;00m \u001b[43mnp\u001b[49m\u001b[38;5;241;43m.\u001b[39;49m\u001b[43mlinalg\u001b[49m\u001b[38;5;241;43m.\u001b[39;49m\u001b[43mnorm\u001b[49m\u001b[43m(\u001b[49m\u001b[43mx\u001b[49m\u001b[43m)\u001b[49m \u001b[38;5;241m/\u001b[39m x\u001b[38;5;241m.\u001b[39msize \u001b[38;5;241m*\u001b[39m\u001b[38;5;241m*\u001b[39m \u001b[38;5;241m0.5\u001b[39m\n",
      "File \u001b[1;32mc:\\Users\\avalon\\AppData\\Local\\Programs\\Python\\Python311\\Lib\\site-packages\\numpy\\linalg\\linalg.py:2552\u001b[0m, in \u001b[0;36mnorm\u001b[1;34m(x, ord, axis, keepdims)\u001b[0m\n\u001b[0;32m   2550\u001b[0m     sqnorm \u001b[38;5;241m=\u001b[39m x_real\u001b[38;5;241m.\u001b[39mdot(x_real) \u001b[38;5;241m+\u001b[39m x_imag\u001b[38;5;241m.\u001b[39mdot(x_imag)\n\u001b[0;32m   2551\u001b[0m \u001b[38;5;28;01melse\u001b[39;00m:\n\u001b[1;32m-> 2552\u001b[0m     sqnorm \u001b[38;5;241m=\u001b[39m x\u001b[38;5;241m.\u001b[39mdot(x)\n\u001b[0;32m   2553\u001b[0m ret \u001b[38;5;241m=\u001b[39m sqrt(sqnorm)\n\u001b[0;32m   2554\u001b[0m \u001b[38;5;28;01mif\u001b[39;00m keepdims:\n",
      "\u001b[1;31mKeyboardInterrupt\u001b[0m: "
     ]
    }
   ],
   "source": [
    "# Define your matrix size\n",
    "mat_size = 15  \n",
    "param_average = np.zeros((11,11))\n",
    "p_chart = np.zeros((11,11))\n",
    "q_chart = np.zeros((11,11))\n",
    "\n",
    "fig, axs = plt.subplots(11, 11, figsize=(40,40), sharex=True, sharey=True)\n",
    "\n",
    "# Loop over parameter values sequentially\n",
    "for counter_x in range(11):\n",
    "    p = round(counter_x * 0.1, 2)\n",
    "    with mp.Pool(mp.cpu_count()) as pool:\n",
    "        for counter_y in range(11):\n",
    "            q = round(counter_y * 0.1, 2)\n",
    "            trial_close = []\n",
    "\n",
    "            for k in range(7):  # Run multiple trials per (p, q)\n",
    "                W = weight_matrix_bal(mat_size, p, q)\n",
    "                A = np.copy(W)  # Ensure A is defined locally for stability\n",
    "                \n",
    "                # Define the dynamical system\n",
    "                def sys(t, x):\n",
    "                    x = x.reshape(-1, 1)  # Ensure x is a column vector\n",
    "                    dxdt = -x + np.maximum(0, A @ x + 1)\n",
    "                    return dxdt.flatten()  # Flatten for solve_ivp\n",
    "                \n",
    "                # Run the solver\n",
    "                x0 = np.random.rand(mat_size, 1)\n",
    "                time = [0, 600]\n",
    "                sol = scp.solve_ivp(sys, time, x0.flatten(), method='BDF', dense_output=False)\n",
    "\n",
    "                # Improved fixed-point detection\n",
    "                final_state = sol.y[:, -1]\n",
    "                dxdt_final = sys(sol.t[-1], final_state)\n",
    "\n",
    "                if np.all(np.abs(dxdt_final) < 1e-3):  # Check if derivatives are close to zero\n",
    "                    trial_close.append(1)\n",
    "                else:\n",
    "                    trial_close.append(0)\n",
    "\n",
    "        # Store results\n",
    "        param_average[11 - (counter_y + 1), counter_x] = st.mean(trial_close)\n",
    "        \n",
    "        print(f\"p = {p}, q = {q}, trial_close = {trial_close}, mean = {st.mean(trial_close)}\")\n",
    "\n",
    "        # Plot system dynamics\n",
    "        u = sol.t\n",
    "        v = sol.y.T\n",
    "        axs[11 - (counter_y + 1), counter_x].plot(u, v)\n",
    "        axs[11 - (counter_y + 1), counter_x].title.set_text(f\"p = {p}, q = {q}\")\n",
    "\n",
    "        p_chart[11 - (counter_y + 1), counter_x] = p\n",
    "        q_chart[11 - (counter_y + 1), counter_x] = q\n",
    "\n",
    "# Generate heatmap\n",
    "fig = plt.figure(figsize=(4, 4))\n",
    "plt.imshow(param_average, cmap='RdYlBu')\n",
    "plt.colorbar()\n",
    "plt.xlabel('p values')\n",
    "plt.ylabel('q values')\n",
    "plt.title('Heatmap of Parameters')\n",
    "plt.show()\n",
    "\n",
    "# Save heatmap\n",
    "filename = f'Heatmaps/Matrix_Size_{mat_size}_new_algorithm'\n",
    "i = 0\n",
    "while os.path.exists(f\"{filename}_{i}.png\"):\n",
    "    i += 1\n",
    "\n",
    "plt.savefig(f\"{filename}_{i}.png\", dpi=720)"
   ]
  },
  {
   "cell_type": "code",
   "execution_count": 34,
   "metadata": {},
   "outputs": [
    {
     "name": "stdout",
     "output_type": "stream",
     "text": [
      "0.8417104915840342 0.9779631430901128 0.11285085205093048\n"
     ]
    },
    {
     "data": {
      "text/plain": [
       "[<matplotlib.lines.Line2D at 0x1f1f220d0d0>]"
      ]
     },
     "execution_count": 34,
     "metadata": {},
     "output_type": "execute_result"
    },
    {
     "data": {
      "image/png": "[encoded data removed]",
      "text/plain": [
       "<Figure size 640x480 with 1 Axes>"
      ]
     },
     "metadata": {},
     "output_type": "display_data"
    }
   ],
   "source": [
    "# limit\n",
    "\n",
    "def f(a,p,q,N):\n",
    "    v = ((1-(p*((1-q)/2))+p*q)**(a*N))**(N*(1-a))\n",
    "    w = np.sqrt(2*np.pi *(N*(1-a)))*((N*(1-a))/np.e)**(N*(1-a))\n",
    "    x = np.sqrt(p*((1-q)/2)+p*q)**(a*N)\n",
    "    y = np.sqrt(a) *((a*N)/e)**(a*N)\n",
    "    z = np.sqrt(2*np.pi*N)*(N/e)**N\n",
    "    return((v/w)*(x/y)*z)\n",
    "\n",
    "x_coords=[]\n",
    "entries=[]\n",
    "entries_2=[]\n",
    "entries_3=[]\n",
    "\n",
    "r1 = np.random.uniform(0,1)\n",
    "r2 = np.random.uniform(0,1)\n",
    "r3 = np.random.uniform(0,1)\n",
    "\n",
    "print(r1,r2,r3)\n",
    "\n",
    "for i in range(80):\n",
    "    entries.append(f(1/2,1/2,1/2,i+1))\n",
    "    entries_2.append(f(0.3,0.6,0,i+1))\n",
    "    entries_3.append(f(r1, r2, r3,i+1))\n",
    "    x_coords.append(i+1)\n",
    "\n",
    "plt.loglog(x_coords, entries)\n",
    "plt.loglog(x_coords, entries_2)\n",
    "plt.loglog(x_coords, entries_3)"
   ]
  },
  {
   "cell_type": "code",
   "execution_count": null,
   "metadata": {},
   "outputs": [],
   "source": [
    "# "
   ]
  }
 ],
 "metadata": {
  "kernelspec": {
   "display_name": "Python 3",
   "language": "python",
   "name": "python3"
  },
  "language_info": {
   "codemirror_mode": {
    "name": "ipython",
    "version": 3
   },
   "file_extension": ".py",
   "mimetype": "text/x-python",
   "name": "python",
   "nbconvert_exporter": "python",
   "pygments_lexer": "ipython3",
   "version": "3.11.4"
  }
 },
 "nbformat": 4,
 "nbformat_minor": 2
}
