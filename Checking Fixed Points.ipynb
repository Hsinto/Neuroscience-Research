{
 "cells": [
  {
   "cell_type": "code",
   "execution_count": 33,
   "metadata": {},
   "outputs": [],
   "source": [
    "import numpy as np"
   ]
  },
  {
   "cell_type": "code",
   "execution_count": 38,
   "metadata": {},
   "outputs": [],
   "source": [
    "W = np.array([[0, -1.5],[-1.5, 0]])\n",
    "ps = [[], [1],[2],[1,2]]\n",
    "matrix_size = len(W)"
   ]
  },
  {
   "cell_type": "code",
   "execution_count": 39,
   "metadata": {},
   "outputs": [
    {
     "name": "stdout",
     "output_type": "stream",
     "text": [
      "0\n",
      "[[0.4]\n",
      " [0.4]]\n",
      "1\n",
      "[[0.]\n",
      " [1.]]\n",
      "2\n",
      "[[1.]\n",
      " [0.]]\n",
      "3\n",
      "[[0.]\n",
      " [0.]]\n"
     ]
    }
   ],
   "source": [
    "A = np.copy(W)\n",
    "for entry in ps:\n",
    "    W = np.copy(A)\n",
    "    t_s = np.ones((matrix_size, 1))\n",
    "    print(ps.index(entry))\n",
    "    i = ps[ps.index(entry)]\n",
    "    if entry:\n",
    "        for iter in i:\n",
    "            W[iter-1, :] = 0\n",
    "            inverse = np.linalg.inv(np.identity(matrix_size) - W)   \n",
    "            t_s[iter-1, :] = 0\n",
    "            P = np.matmul(inverse, t_s)\n",
    "        print(P)\n",
    "    else:\n",
    "        inverse = np.linalg.inv(np.identity(matrix_size) - W)\n",
    "        P = np.matmul(inverse, t_s)\n",
    "        print(P)"
   ]
  },
  {
   "cell_type": "code",
   "execution_count": 45,
   "metadata": {},
   "outputs": [
    {
     "ename": "SyntaxError",
     "evalue": "invalid syntax (<string>, line 0)",
     "output_type": "error",
     "traceback": [
      "Traceback \u001b[1;36m(most recent call last)\u001b[0m:\n",
      "\u001b[0m  File \u001b[0;32m~\\AppData\\Roaming\\Python\\Python311\\site-packages\\IPython\\core\\interactiveshell.py:3526\u001b[0m in \u001b[0;35mrun_code\u001b[0m\n    exec(code_obj, self.user_global_ns, self.user_ns)\u001b[0m\n",
      "\u001b[1;36m  Cell \u001b[1;32mIn[45], line 11\u001b[1;36m\n\u001b[1;33m    x.append(eval(hp_entry))\u001b[1;36m\n",
      "\u001b[1;36m  File \u001b[1;32m<string>\u001b[1;36m\u001b[0m\n\u001b[1;33m    \u001b[0m\n\u001b[1;37m    ^\u001b[0m\n\u001b[1;31mSyntaxError\u001b[0m\u001b[1;31m:\u001b[0m invalid syntax\n"
     ]
    }
   ],
   "source": [
    "W = np.array([[0, -1.25],[-1.25, 0]])\n",
    "x = []\n",
    "t = 1\n",
    "e = 0.25\n",
    "d = 0.5\n",
    "sigma = [1]\n",
    "t_s = np.array([[1],[1]])\n",
    "\n",
    "for i in range(matrix_size):\n",
    "    hp_entry = input('insert hyperplane equations in ascending order\\n')\n",
    "    x.append(eval(hp_entry))\n",
    "\n",
    "def y_i(i,j):\n",
    "    y_i = W[i, j]*x[j] + t_s\n",
    "    return(y_i)\n",
    "for i in range(matrix_size):\n",
    "    if i+1 in sigma:\n",
    "        for j in range(matrix_size):\n",
    "            if i == j:\n",
    "                break\n",
    "            check = y_i(i, j)\n",
    "\n",
    "print(x)\n"
   ]
  }
 ],
 "metadata": {
  "kernelspec": {
   "display_name": "Python 3",
   "language": "python",
   "name": "python3"
  },
  "language_info": {
   "codemirror_mode": {
    "name": "ipython",
    "version": 3
   },
   "file_extension": ".py",
   "mimetype": "text/x-python",
   "name": "python",
   "nbconvert_exporter": "python",
   "pygments_lexer": "ipython3",
   "version": "3.11.4"
  }
 },
 "nbformat": 4,
 "nbformat_minor": 2
}
